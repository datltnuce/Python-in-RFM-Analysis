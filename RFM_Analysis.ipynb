{
 "cells": [
  {
   "cell_type": "code",
   "execution_count": 2,
   "metadata": {},
   "outputs": [],
   "source": [
    "import pandas as pd\n",
    "from datetime import datetime\n",
    "import matplotlib.pyplot as plt\n",
    "import seaborn as sns"
   ]
  },
  {
   "cell_type": "code",
   "execution_count": 5,
   "metadata": {},
   "outputs": [],
   "source": [
    "# Load the transactions data\n",
    "file_path = r'C:\\Users\\Admin\\OneDrive\\Desktop\\Python\\Unigap\\Final Project\\Final_project_RFM\\ecommerce retail.xlsx'  \n",
    "transactions = pd.read_excel(file_path, sheet_name='ecommerce retail')"
   ]
  },
  {
   "cell_type": "code",
   "execution_count": 3,
   "metadata": {},
   "outputs": [
    {
     "name": "stdout",
     "output_type": "stream",
     "text": [
      "  InvoiceNo StockCode                          Description  Quantity  \\\n",
      "0    536365    85123A   WHITE HANGING HEART T-LIGHT HOLDER         6   \n",
      "1    536365     71053                  WHITE METAL LANTERN         6   \n",
      "2    536365    84406B       CREAM CUPID HEARTS COAT HANGER         8   \n",
      "3    536365    84029G  KNITTED UNION FLAG HOT WATER BOTTLE         6   \n",
      "4    536365    84029E       RED WOOLLY HOTTIE WHITE HEART.         6   \n",
      "\n",
      "          InvoiceDate  UnitPrice  CustomerID         Country  \n",
      "0 2010-12-01 08:26:00       2.55     17850.0  United Kingdom  \n",
      "1 2010-12-01 08:26:00       3.39     17850.0  United Kingdom  \n",
      "2 2010-12-01 08:26:00       2.75     17850.0  United Kingdom  \n",
      "3 2010-12-01 08:26:00       3.39     17850.0  United Kingdom  \n",
      "4 2010-12-01 08:26:00       3.39     17850.0  United Kingdom  \n"
     ]
    }
   ],
   "source": [
    "# View the first few rows\n",
    "print(transactions.head())"
   ]
  },
  {
   "cell_type": "code",
   "execution_count": 4,
   "metadata": {},
   "outputs": [
    {
     "name": "stdout",
     "output_type": "stream",
     "text": [
      "<class 'pandas.core.frame.DataFrame'>\n",
      "RangeIndex: 541909 entries, 0 to 541908\n",
      "Data columns (total 8 columns):\n",
      " #   Column       Non-Null Count   Dtype         \n",
      "---  ------       --------------   -----         \n",
      " 0   InvoiceNo    541909 non-null  object        \n",
      " 1   StockCode    541909 non-null  object        \n",
      " 2   Description  540455 non-null  object        \n",
      " 3   Quantity     541909 non-null  int64         \n",
      " 4   InvoiceDate  541909 non-null  datetime64[ns]\n",
      " 5   UnitPrice    541909 non-null  float64       \n",
      " 6   CustomerID   406829 non-null  float64       \n",
      " 7   Country      541909 non-null  object        \n",
      "dtypes: datetime64[ns](1), float64(2), int64(1), object(4)\n",
      "memory usage: 33.1+ MB\n",
      "None\n"
     ]
    }
   ],
   "source": [
    "# Check data information\n",
    "print(transactions.info())"
   ]
  },
  {
   "cell_type": "code",
   "execution_count": 8,
   "metadata": {},
   "outputs": [
    {
     "name": "stdout",
     "output_type": "stream",
     "text": [
      "            Quantity                    InvoiceDate      UnitPrice  \\\n",
      "count  541909.000000                         541909  541909.000000   \n",
      "mean        9.552250  2011-07-04 13:34:57.156386048       4.611114   \n",
      "min    -80995.000000            2010-12-01 08:26:00  -11062.060000   \n",
      "25%         1.000000            2011-03-28 11:34:00       1.250000   \n",
      "50%         3.000000            2011-07-19 17:17:00       2.080000   \n",
      "75%        10.000000            2011-10-19 11:27:00       4.130000   \n",
      "max     80995.000000            2011-12-09 12:50:00   38970.000000   \n",
      "std       218.081158                            NaN      96.759853   \n",
      "\n",
      "          CustomerID  \n",
      "count  406829.000000  \n",
      "mean    15287.690570  \n",
      "min     12346.000000  \n",
      "25%     13953.000000  \n",
      "50%     15152.000000  \n",
      "75%     16791.000000  \n",
      "max     18287.000000  \n",
      "std      1713.600303  \n"
     ]
    }
   ],
   "source": [
    "# Check descriptive statistics\n",
    "print(transactions.describe())"
   ]
  },
  {
   "cell_type": "code",
   "execution_count": 9,
   "metadata": {},
   "outputs": [
    {
     "name": "stdout",
     "output_type": "stream",
     "text": [
      "InvoiceNo           0\n",
      "StockCode           0\n",
      "Description      1454\n",
      "Quantity            0\n",
      "InvoiceDate         0\n",
      "UnitPrice           0\n",
      "CustomerID     135080\n",
      "Country             0\n",
      "dtype: int64\n"
     ]
    }
   ],
   "source": [
    "# Check total null values\n",
    "print(transactions.isnull().sum())"
   ]
  },
  {
   "cell_type": "code",
   "execution_count": 10,
   "metadata": {},
   "outputs": [
    {
     "name": "stdout",
     "output_type": "stream",
     "text": [
      "InvoiceNo              object\n",
      "StockCode              object\n",
      "Description            object\n",
      "Quantity                int64\n",
      "InvoiceDate    datetime64[ns]\n",
      "UnitPrice             float64\n",
      "CustomerID             object\n",
      "Country                object\n",
      "dtype: object\n"
     ]
    }
   ],
   "source": [
    "# Convert columns from object to string using .apply(str)\n",
    "transactions['InvoiceNo'] = transactions['InvoiceNo'].apply(str)\n",
    "transactions['StockCode'] = transactions['StockCode'].apply(str)\n",
    "transactions['Description'] = transactions['Description'].apply(str)\n",
    "transactions['Country'] = transactions['Country'].apply(str)\n",
    "transactions['CustomerID'] = transactions['CustomerID'].apply(str)\n",
    "\n",
    "# Check column data types again\n",
    "print(transactions.dtypes)"
   ]
  },
  {
   "cell_type": "code",
   "execution_count": 11,
   "metadata": {},
   "outputs": [
    {
     "data": {
      "text/plain": [
       "(530104, 9)"
      ]
     },
     "execution_count": 11,
     "metadata": {},
     "output_type": "execute_result"
    }
   ],
   "source": [
    "# Drop inappropriate data values\n",
    "## Drop rows with negative Quantity\n",
    "transactions = transactions[transactions['Quantity'] > 0]\n",
    "## Drop rows with negative UnitPrice\n",
    "transactions = transactions[transactions['UnitPrice'] > 0]\n",
    "## Drop cancelled data\n",
    "transactions['check_cancel'] = transactions['InvoiceNo'].apply(lambda x: True if x[0] == 'C' else False)\n",
    "transactions = transactions[transactions['check_cancel'] == False]\n",
    "transactions = transactions.replace('nan', None)\n",
    "transactions = transactions.replace('Nan', None)\n",
    "transactions.shape"
   ]
  },
  {
   "cell_type": "code",
   "execution_count": 12,
   "metadata": {},
   "outputs": [
    {
     "data": {
      "text/html": [
       "<div>\n",
       "<style scoped>\n",
       "    .dataframe tbody tr th:only-of-type {\n",
       "        vertical-align: middle;\n",
       "    }\n",
       "\n",
       "    .dataframe tbody tr th {\n",
       "        vertical-align: top;\n",
       "    }\n",
       "\n",
       "    .dataframe thead th {\n",
       "        text-align: right;\n",
       "    }\n",
       "</style>\n",
       "<table border=\"1\" class=\"dataframe\">\n",
       "  <thead>\n",
       "    <tr style=\"text-align: right;\">\n",
       "      <th></th>\n",
       "      <th>volume</th>\n",
       "      <th>percentage_missing</th>\n",
       "    </tr>\n",
       "  </thead>\n",
       "  <tbody>\n",
       "    <tr>\n",
       "      <th>InvoiceNo</th>\n",
       "      <td>0</td>\n",
       "      <td>0.000000</td>\n",
       "    </tr>\n",
       "    <tr>\n",
       "      <th>StockCode</th>\n",
       "      <td>0</td>\n",
       "      <td>0.000000</td>\n",
       "    </tr>\n",
       "    <tr>\n",
       "      <th>Description</th>\n",
       "      <td>0</td>\n",
       "      <td>0.000000</td>\n",
       "    </tr>\n",
       "    <tr>\n",
       "      <th>Quantity</th>\n",
       "      <td>0</td>\n",
       "      <td>0.000000</td>\n",
       "    </tr>\n",
       "    <tr>\n",
       "      <th>InvoiceDate</th>\n",
       "      <td>0</td>\n",
       "      <td>0.000000</td>\n",
       "    </tr>\n",
       "    <tr>\n",
       "      <th>UnitPrice</th>\n",
       "      <td>0</td>\n",
       "      <td>0.000000</td>\n",
       "    </tr>\n",
       "    <tr>\n",
       "      <th>CustomerID</th>\n",
       "      <td>132220</td>\n",
       "      <td>24.942275</td>\n",
       "    </tr>\n",
       "    <tr>\n",
       "      <th>Country</th>\n",
       "      <td>0</td>\n",
       "      <td>0.000000</td>\n",
       "    </tr>\n",
       "    <tr>\n",
       "      <th>check_cancel</th>\n",
       "      <td>0</td>\n",
       "      <td>0.000000</td>\n",
       "    </tr>\n",
       "  </tbody>\n",
       "</table>\n",
       "</div>"
      ],
      "text/plain": [
       "              volume  percentage_missing\n",
       "InvoiceNo          0            0.000000\n",
       "StockCode          0            0.000000\n",
       "Description        0            0.000000\n",
       "Quantity           0            0.000000\n",
       "InvoiceDate        0            0.000000\n",
       "UnitPrice          0            0.000000\n",
       "CustomerID    132220           24.942275\n",
       "Country            0            0.000000\n",
       "check_cancel       0            0.000000"
      ]
     },
     "execution_count": 12,
     "metadata": {},
     "output_type": "execute_result"
    }
   ],
   "source": [
    "# Statistics for columns with missing values\n",
    "missing_dict = {\n",
    "    'volume': transactions.isnull().sum(),\n",
    "    'percentage_missing': transactions.isnull().sum() / transactions.shape[0] * 100\n",
    "}\n",
    "missing_df = pd.DataFrame(missing_dict)\n",
    "missing_df.head(10)"
   ]
  },
  {
   "cell_type": "code",
   "execution_count": 15,
   "metadata": {},
   "outputs": [
    {
     "data": {
      "text/html": [
       "<div>\n",
       "<style scoped>\n",
       "    .dataframe tbody tr th:only-of-type {\n",
       "        vertical-align: middle;\n",
       "    }\n",
       "\n",
       "    .dataframe tbody tr th {\n",
       "        vertical-align: top;\n",
       "    }\n",
       "\n",
       "    .dataframe thead th {\n",
       "        text-align: right;\n",
       "    }\n",
       "</style>\n",
       "<table border=\"1\" class=\"dataframe\">\n",
       "  <thead>\n",
       "    <tr style=\"text-align: right;\">\n",
       "      <th></th>\n",
       "      <th>InvoiceNo</th>\n",
       "      <th>StockCode</th>\n",
       "      <th>Description</th>\n",
       "      <th>Quantity</th>\n",
       "      <th>InvoiceDate</th>\n",
       "      <th>UnitPrice</th>\n",
       "      <th>CustomerID</th>\n",
       "      <th>Country</th>\n",
       "      <th>check_cancel</th>\n",
       "    </tr>\n",
       "  </thead>\n",
       "  <tbody>\n",
       "    <tr>\n",
       "      <th>0</th>\n",
       "      <td>536365</td>\n",
       "      <td>85123A</td>\n",
       "      <td>WHITE HANGING HEART T-LIGHT HOLDER</td>\n",
       "      <td>6</td>\n",
       "      <td>2010-12-01 08:26:00</td>\n",
       "      <td>2.55</td>\n",
       "      <td>17850.0</td>\n",
       "      <td>United Kingdom</td>\n",
       "      <td>False</td>\n",
       "    </tr>\n",
       "    <tr>\n",
       "      <th>1</th>\n",
       "      <td>536365</td>\n",
       "      <td>71053</td>\n",
       "      <td>WHITE METAL LANTERN</td>\n",
       "      <td>6</td>\n",
       "      <td>2010-12-01 08:26:00</td>\n",
       "      <td>3.39</td>\n",
       "      <td>17850.0</td>\n",
       "      <td>United Kingdom</td>\n",
       "      <td>False</td>\n",
       "    </tr>\n",
       "    <tr>\n",
       "      <th>2</th>\n",
       "      <td>536365</td>\n",
       "      <td>84406B</td>\n",
       "      <td>CREAM CUPID HEARTS COAT HANGER</td>\n",
       "      <td>8</td>\n",
       "      <td>2010-12-01 08:26:00</td>\n",
       "      <td>2.75</td>\n",
       "      <td>17850.0</td>\n",
       "      <td>United Kingdom</td>\n",
       "      <td>False</td>\n",
       "    </tr>\n",
       "    <tr>\n",
       "      <th>3</th>\n",
       "      <td>536365</td>\n",
       "      <td>84029G</td>\n",
       "      <td>KNITTED UNION FLAG HOT WATER BOTTLE</td>\n",
       "      <td>6</td>\n",
       "      <td>2010-12-01 08:26:00</td>\n",
       "      <td>3.39</td>\n",
       "      <td>17850.0</td>\n",
       "      <td>United Kingdom</td>\n",
       "      <td>False</td>\n",
       "    </tr>\n",
       "    <tr>\n",
       "      <th>4</th>\n",
       "      <td>536365</td>\n",
       "      <td>84029E</td>\n",
       "      <td>RED WOOLLY HOTTIE WHITE HEART.</td>\n",
       "      <td>6</td>\n",
       "      <td>2010-12-01 08:26:00</td>\n",
       "      <td>3.39</td>\n",
       "      <td>17850.0</td>\n",
       "      <td>United Kingdom</td>\n",
       "      <td>False</td>\n",
       "    </tr>\n",
       "  </tbody>\n",
       "</table>\n",
       "</div>"
      ],
      "text/plain": [
       "  InvoiceNo StockCode                          Description  Quantity  \\\n",
       "0    536365    85123A   WHITE HANGING HEART T-LIGHT HOLDER         6   \n",
       "1    536365     71053                  WHITE METAL LANTERN         6   \n",
       "2    536365    84406B       CREAM CUPID HEARTS COAT HANGER         8   \n",
       "3    536365    84029G  KNITTED UNION FLAG HOT WATER BOTTLE         6   \n",
       "4    536365    84029E       RED WOOLLY HOTTIE WHITE HEART.         6   \n",
       "\n",
       "          InvoiceDate  UnitPrice CustomerID         Country  check_cancel  \n",
       "0 2010-12-01 08:26:00       2.55    17850.0  United Kingdom         False  \n",
       "1 2010-12-01 08:26:00       3.39    17850.0  United Kingdom         False  \n",
       "2 2010-12-01 08:26:00       2.75    17850.0  United Kingdom         False  \n",
       "3 2010-12-01 08:26:00       3.39    17850.0  United Kingdom         False  \n",
       "4 2010-12-01 08:26:00       3.39    17850.0  United Kingdom         False  "
      ]
     },
     "execution_count": 15,
     "metadata": {},
     "output_type": "execute_result"
    }
   ],
   "source": [
    "# Drop 20% of users with missing values\n",
    "transactions = transactions[transactions['CustomerID'].notnull()]\n",
    "transactions.head()"
   ]
  },
  {
   "cell_type": "code",
   "execution_count": 5,
   "metadata": {},
   "outputs": [
    {
     "name": "stdout",
     "output_type": "stream",
     "text": [
      "514893\n",
      "108064\n"
     ]
    }
   ],
   "source": [
    "# Total rows with missing values in CustomerID column\n",
    "missing_customer_id_rows = transactions[transactions['CustomerID'].isnull()]\n",
    "total_missing = len(missing_customer_id_rows)\n",
    "\n",
    "# 20% of total missing values\n",
    "num_to_drop = int(total_missing * 0.20)\n",
    "\n",
    "# Randomly select 20% of missing values rows\n",
    "rows_to_drop = missing_customer_id_rows.sample(num_to_drop, random_state=1)\n",
    "\n",
    "# Drop selected rows\n",
    "transactions = transactions.drop(rows_to_drop.index)\n",
    "\n",
    "print(len(transactions))\n",
    "print(transactions[\"CustomerID\"].isnull().sum())"
   ]
  },
  {
   "cell_type": "code",
   "execution_count": 6,
   "metadata": {},
   "outputs": [
    {
     "name": "stdout",
     "output_type": "stream",
     "text": [
      "(10493, 8)\n",
      "\n",
      "(514893, 8)\n"
     ]
    }
   ],
   "source": [
    "# Check duplicate value \n",
    "transactions_duplicated = transactions.duplicated(subset=['InvoiceNo', 'StockCode', 'InvoiceDate', 'CustomerID'])\n",
    "print(transactions[transactions_duplicated].shape)\n",
    "print('')\n",
    "print(transactions.shape)"
   ]
  },
  {
   "cell_type": "code",
   "execution_count": 7,
   "metadata": {},
   "outputs": [
    {
     "data": {
      "text/plain": [
       "(504400, 8)"
      ]
     },
     "execution_count": 7,
     "metadata": {},
     "output_type": "execute_result"
    }
   ],
   "source": [
    "# Drop duplicate value\n",
    "transactions_drop_duplicates = transactions.drop_duplicates(subset=['InvoiceNo', 'StockCode', 'InvoiceDate', 'CustomerID'], keep='first')\n",
    "transactions_drop_duplicates.shape"
   ]
  },
  {
   "cell_type": "markdown",
   "metadata": {},
   "source": [
    "Calucaltion RFM"
   ]
  },
  {
   "cell_type": "code",
   "execution_count": null,
   "metadata": {},
   "outputs": [
    {
     "data": {
      "text/plain": [
       "CustomerID    float64\n",
       "Recency         int64\n",
       "Frequency       int64\n",
       "Monetery      float64\n",
       "dtype: object"
      ]
     },
     "execution_count": 7,
     "metadata": {},
     "output_type": "execute_result"
    }
   ],
   "source": [
    "# Create RFM_transactions table\n",
    "last_day = transactions['InvoiceDate'].max()\n",
    "transactions['cost'] = transactions['Quantity'] * transactions['UnitPrice']\n",
    "RFM_transactions = transactions.groupby('CustomerID').agg(\n",
    "    Recency=('InvoiceDate', lambda x: (last_day - x.max()).days),\n",
    "    Frequency=('CustomerID', 'count'),\n",
    "    Monetery=('cost', 'sum')\n",
    ").reset_index()\n",
    "RFM_transactions.dtypes"
   ]
  },
  {
   "cell_type": "code",
   "execution_count": 8,
   "metadata": {},
   "outputs": [
    {
     "data": {
      "text/html": [
       "<div>\n",
       "<style scoped>\n",
       "    .dataframe tbody tr th:only-of-type {\n",
       "        vertical-align: middle;\n",
       "    }\n",
       "\n",
       "    .dataframe tbody tr th {\n",
       "        vertical-align: top;\n",
       "    }\n",
       "\n",
       "    .dataframe thead th {\n",
       "        text-align: right;\n",
       "    }\n",
       "</style>\n",
       "<table border=\"1\" class=\"dataframe\">\n",
       "  <thead>\n",
       "    <tr style=\"text-align: right;\">\n",
       "      <th></th>\n",
       "      <th>CustomerID</th>\n",
       "      <th>Recency</th>\n",
       "      <th>Frequency</th>\n",
       "      <th>Monetery</th>\n",
       "    </tr>\n",
       "  </thead>\n",
       "  <tbody>\n",
       "    <tr>\n",
       "      <th>0</th>\n",
       "      <td>12346.0</td>\n",
       "      <td>325</td>\n",
       "      <td>2</td>\n",
       "      <td>0.00</td>\n",
       "    </tr>\n",
       "    <tr>\n",
       "      <th>1</th>\n",
       "      <td>12347.0</td>\n",
       "      <td>1</td>\n",
       "      <td>182</td>\n",
       "      <td>4310.00</td>\n",
       "    </tr>\n",
       "    <tr>\n",
       "      <th>2</th>\n",
       "      <td>12348.0</td>\n",
       "      <td>74</td>\n",
       "      <td>31</td>\n",
       "      <td>1797.24</td>\n",
       "    </tr>\n",
       "    <tr>\n",
       "      <th>3</th>\n",
       "      <td>12349.0</td>\n",
       "      <td>18</td>\n",
       "      <td>73</td>\n",
       "      <td>1757.55</td>\n",
       "    </tr>\n",
       "    <tr>\n",
       "      <th>4</th>\n",
       "      <td>12350.0</td>\n",
       "      <td>309</td>\n",
       "      <td>17</td>\n",
       "      <td>334.40</td>\n",
       "    </tr>\n",
       "  </tbody>\n",
       "</table>\n",
       "</div>"
      ],
      "text/plain": [
       "   CustomerID  Recency  Frequency  Monetery\n",
       "0     12346.0      325          2      0.00\n",
       "1     12347.0        1        182   4310.00\n",
       "2     12348.0       74         31   1797.24\n",
       "3     12349.0       18         73   1757.55\n",
       "4     12350.0      309         17    334.40"
      ]
     },
     "execution_count": 8,
     "metadata": {},
     "output_type": "execute_result"
    }
   ],
   "source": [
    "RFM_transactions.head()"
   ]
  },
  {
   "cell_type": "code",
   "execution_count": 11,
   "metadata": {},
   "outputs": [
    {
     "data": {
      "text/html": [
       "<div>\n",
       "<style scoped>\n",
       "    .dataframe tbody tr th:only-of-type {\n",
       "        vertical-align: middle;\n",
       "    }\n",
       "\n",
       "    .dataframe tbody tr th {\n",
       "        vertical-align: top;\n",
       "    }\n",
       "\n",
       "    .dataframe thead th {\n",
       "        text-align: right;\n",
       "    }\n",
       "</style>\n",
       "<table border=\"1\" class=\"dataframe\">\n",
       "  <thead>\n",
       "    <tr style=\"text-align: right;\">\n",
       "      <th></th>\n",
       "      <th>CustomerID</th>\n",
       "      <th>Recency</th>\n",
       "      <th>Frequency</th>\n",
       "      <th>Monetery</th>\n",
       "      <th>R</th>\n",
       "      <th>F</th>\n",
       "      <th>M</th>\n",
       "      <th>RFM</th>\n",
       "    </tr>\n",
       "  </thead>\n",
       "  <tbody>\n",
       "    <tr>\n",
       "      <th>0</th>\n",
       "      <td>12346.0</td>\n",
       "      <td>325</td>\n",
       "      <td>2</td>\n",
       "      <td>0.00</td>\n",
       "      <td>5</td>\n",
       "      <td>1</td>\n",
       "      <td>1</td>\n",
       "      <td>511</td>\n",
       "    </tr>\n",
       "    <tr>\n",
       "      <th>1</th>\n",
       "      <td>12347.0</td>\n",
       "      <td>1</td>\n",
       "      <td>182</td>\n",
       "      <td>4310.00</td>\n",
       "      <td>1</td>\n",
       "      <td>5</td>\n",
       "      <td>5</td>\n",
       "      <td>155</td>\n",
       "    </tr>\n",
       "    <tr>\n",
       "      <th>2</th>\n",
       "      <td>12348.0</td>\n",
       "      <td>74</td>\n",
       "      <td>31</td>\n",
       "      <td>1797.24</td>\n",
       "      <td>4</td>\n",
       "      <td>3</td>\n",
       "      <td>4</td>\n",
       "      <td>434</td>\n",
       "    </tr>\n",
       "    <tr>\n",
       "      <th>3</th>\n",
       "      <td>12349.0</td>\n",
       "      <td>18</td>\n",
       "      <td>73</td>\n",
       "      <td>1757.55</td>\n",
       "      <td>2</td>\n",
       "      <td>4</td>\n",
       "      <td>4</td>\n",
       "      <td>244</td>\n",
       "    </tr>\n",
       "    <tr>\n",
       "      <th>4</th>\n",
       "      <td>12350.0</td>\n",
       "      <td>309</td>\n",
       "      <td>17</td>\n",
       "      <td>334.40</td>\n",
       "      <td>5</td>\n",
       "      <td>2</td>\n",
       "      <td>2</td>\n",
       "      <td>522</td>\n",
       "    </tr>\n",
       "  </tbody>\n",
       "</table>\n",
       "</div>"
      ],
      "text/plain": [
       "   CustomerID  Recency  Frequency  Monetery  R  F  M  RFM\n",
       "0     12346.0      325          2      0.00  5  1  1  511\n",
       "1     12347.0        1        182   4310.00  1  5  5  155\n",
       "2     12348.0       74         31   1797.24  4  3  4  434\n",
       "3     12349.0       18         73   1757.55  2  4  4  244\n",
       "4     12350.0      309         17    334.40  5  2  2  522"
      ]
     },
     "execution_count": 11,
     "metadata": {},
     "output_type": "execute_result"
    }
   ],
   "source": [
    "# Create R, F, M columns:\n",
    "RFM_transactions['R'] = pd.qcut(RFM_transactions['Recency'], 5, labels=range(1, 6)).astype(str)\n",
    "RFM_transactions['F'] = pd.qcut(RFM_transactions['Frequency'], 5, labels=range(1, 6)).astype(str)\n",
    "RFM_transactions['M'] = pd.qcut(RFM_transactions['Monetery'], 5, labels=range(1, 6)).astype(str)\n",
    "RFM_transactions['RFM'] = RFM_transactions.apply(lambda x: x['R'] + x['F'] + x['M'], axis=1)\n",
    "RFM_transactions.head()"
   ]
  },
  {
   "cell_type": "code",
   "execution_count": 14,
   "metadata": {},
   "outputs": [],
   "source": [
    "# Read segment data from Excel file\n",
    "segments = pd.read_excel(file_path, sheet_name='Segmentation')\n",
    "segments['RFM Score'] = segments['RFM Score'].str.split(',')\n",
    "segments = segments.explode('RFM Score').reset_index(drop=True)"
   ]
  },
  {
   "cell_type": "code",
   "execution_count": 13,
   "metadata": {},
   "outputs": [],
   "source": [
    "# Remove space of column 'RFM Score'\n",
    "segments['RFM Score'] = segments['RFM Score'].apply(lambda x: x.replace(' ', ''))"
   ]
  },
  {
   "cell_type": "code",
   "execution_count": 14,
   "metadata": {},
   "outputs": [
    {
     "data": {
      "text/html": [
       "<div>\n",
       "<style scoped>\n",
       "    .dataframe tbody tr th:only-of-type {\n",
       "        vertical-align: middle;\n",
       "    }\n",
       "\n",
       "    .dataframe tbody tr th {\n",
       "        vertical-align: top;\n",
       "    }\n",
       "\n",
       "    .dataframe thead th {\n",
       "        text-align: right;\n",
       "    }\n",
       "</style>\n",
       "<table border=\"1\" class=\"dataframe\">\n",
       "  <thead>\n",
       "    <tr style=\"text-align: right;\">\n",
       "      <th></th>\n",
       "      <th>CustomerID</th>\n",
       "      <th>Recency</th>\n",
       "      <th>Frequency</th>\n",
       "      <th>Monetery</th>\n",
       "      <th>R</th>\n",
       "      <th>F</th>\n",
       "      <th>M</th>\n",
       "      <th>RFM</th>\n",
       "      <th>Segment</th>\n",
       "      <th>RFM Score</th>\n",
       "    </tr>\n",
       "  </thead>\n",
       "  <tbody>\n",
       "    <tr>\n",
       "      <th>0</th>\n",
       "      <td>12346.0</td>\n",
       "      <td>325</td>\n",
       "      <td>2</td>\n",
       "      <td>0.00</td>\n",
       "      <td>5</td>\n",
       "      <td>1</td>\n",
       "      <td>1</td>\n",
       "      <td>511</td>\n",
       "      <td>New Customers</td>\n",
       "      <td>511</td>\n",
       "    </tr>\n",
       "    <tr>\n",
       "      <th>1</th>\n",
       "      <td>12347.0</td>\n",
       "      <td>1</td>\n",
       "      <td>182</td>\n",
       "      <td>4310.00</td>\n",
       "      <td>1</td>\n",
       "      <td>5</td>\n",
       "      <td>5</td>\n",
       "      <td>155</td>\n",
       "      <td>Cannot Lose Them</td>\n",
       "      <td>155</td>\n",
       "    </tr>\n",
       "    <tr>\n",
       "      <th>2</th>\n",
       "      <td>12348.0</td>\n",
       "      <td>74</td>\n",
       "      <td>31</td>\n",
       "      <td>1797.24</td>\n",
       "      <td>4</td>\n",
       "      <td>3</td>\n",
       "      <td>4</td>\n",
       "      <td>434</td>\n",
       "      <td>Need Attention</td>\n",
       "      <td>434</td>\n",
       "    </tr>\n",
       "    <tr>\n",
       "      <th>3</th>\n",
       "      <td>12349.0</td>\n",
       "      <td>18</td>\n",
       "      <td>73</td>\n",
       "      <td>1757.55</td>\n",
       "      <td>2</td>\n",
       "      <td>4</td>\n",
       "      <td>4</td>\n",
       "      <td>244</td>\n",
       "      <td>At Risk</td>\n",
       "      <td>244</td>\n",
       "    </tr>\n",
       "    <tr>\n",
       "      <th>4</th>\n",
       "      <td>12350.0</td>\n",
       "      <td>309</td>\n",
       "      <td>17</td>\n",
       "      <td>334.40</td>\n",
       "      <td>5</td>\n",
       "      <td>2</td>\n",
       "      <td>2</td>\n",
       "      <td>522</td>\n",
       "      <td>Promising</td>\n",
       "      <td>522</td>\n",
       "    </tr>\n",
       "  </tbody>\n",
       "</table>\n",
       "</div>"
      ],
      "text/plain": [
       "   CustomerID  Recency  Frequency  Monetery  R  F  M  RFM           Segment  \\\n",
       "0     12346.0      325          2      0.00  5  1  1  511     New Customers   \n",
       "1     12347.0        1        182   4310.00  1  5  5  155  Cannot Lose Them   \n",
       "2     12348.0       74         31   1797.24  4  3  4  434    Need Attention   \n",
       "3     12349.0       18         73   1757.55  2  4  4  244           At Risk   \n",
       "4     12350.0      309         17    334.40  5  2  2  522         Promising   \n",
       "\n",
       "  RFM Score  \n",
       "0       511  \n",
       "1       155  \n",
       "2       434  \n",
       "3       244  \n",
       "4       522  "
      ]
     },
     "execution_count": 14,
     "metadata": {},
     "output_type": "execute_result"
    }
   ],
   "source": [
    "# Merge proper segmentation\n",
    "RFM_transactions_final = RFM_transactions.merge(segments, left_on='RFM', right_on='RFM Score', how='left')\n",
    "RFM_transactions_final.head()"
   ]
  },
  {
   "cell_type": "markdown",
   "metadata": {},
   "source": [
    "Visualize RFM"
   ]
  },
  {
   "cell_type": "code",
   "execution_count": 16,
   "metadata": {},
   "outputs": [
    {
     "data": {
      "image/png": "[encoded data removed]",
      "text/plain": [
       "<Figure size 1500x800 with 1 Axes>"
      ]
     },
     "metadata": {},
     "output_type": "display_data"
    }
   ],
   "source": [
    "\n",
    "# Distribution of User profile\n",
    "segment_by_user_count = RFM_transactions_final[['Segment', 'CustomerID']].groupby(['Segment']).count().reset_index().rename(columns={'CustomerID': 'user_volume'})\n",
    "segment_by_user_count['contribution_percent'] = round(segment_by_user_count['user_volume'] / segment_by_user_count['user_volume'].sum() * 100, 2)\n",
    "segment_by_user_count['type'] = 'user contribution'\n",
    "\n",
    "segment_by_spending = RFM_transactions_final[['Segment', 'Monetery']].groupby(['Segment']).sum().reset_index().rename(columns={'Monetery': 'spending'})\n",
    "segment_by_spending['contribution_percent'] = segment_by_spending['spending'] / segment_by_spending['spending'].sum() * 100\n",
    "segment_by_spending['type'] = 'spending contribution'\n",
    "\n",
    "segment_agg = pd.concat([segment_by_user_count, segment_by_spending])\n",
    "\n",
    "# Visualize the distribution of User profile\n",
    "plt.figure(figsize=(15, 8))\n",
    "sns.barplot(data=segment_agg, x='Segment', y='contribution_percent', hue='type')\n",
    "plt.title('The overall distribution of user profile using RFM Model')\n",
    "plt.xticks(rotation=45)\n",
    "plt.show()"
   ]
  },
  {
   "cell_type": "markdown",
   "metadata": {},
   "source": [
    "Data Analysis:\n",
    "*Group: At Risk Customer and Cannot Lose Them Customer are the two most important customer groups as they account for a large proportion of both volume and revenue. However, these customers haven't used the product for a long time, showing signs of declining interest and high risk of churning.\n",
    "*Suggestions:\n",
    "-Special promotion campaigns: Target these customers with exclusive offers to motivate them to return.\n",
    "-Personalized notifications: Send relevant notifications, highlighting product value, or announce new features to revive interest.\n",
    "-Feedback surveys: Investigate reasons for declining engagement to develop appropriate solutions.\n",
    "\n",
    "*Group: Loyal, New Customer, Potential Loyalist, and Promising make up a large number of customers. However, their transaction value is low, leading to limited overall revenue contribution. This group has development potential if properly stimulated.\n",
    "*Suggestions:\n",
    "-Cross-selling and up-selling strategies: Introduce complementary products/services to increase their transaction value.\n",
    "-Encourage consumption through loyalty programs: Implement point accumulation policies, discounts when reaching certain spending thresholds.\n",
    "-Enhanced interaction: Use email, marketing campaign notifications to build long-term relationships."
   ]
  },
  {
   "cell_type": "code",
   "execution_count": null,
   "metadata": {},
   "outputs": [
    {
     "data": {
      "image/png": "[encoded data removed]",
      "text/plain": [
       "<Figure size 800x300 with 1 Axes>"
      ]
     },
     "metadata": {},
     "output_type": "display_data"
    }
   ],
   "source": [
    "# Distribution of Frequency\n",
    "binsF = [0, 2, 5, 20, np.inf]\n",
    "labelsF = ['1-2', '2-5', '5-20', '20+']\n",
    "RFM_transactions['FrequencyGroup'] = pd.cut(RFM_transactions['Frequency'], bins=binsF, labels=labelsF)\n",
    "fig, ax = plt.subplots(figsize=(8, 3))\n",
    "sns.countplot(x='FrequencyGroup', data=RFM_transactions, ax=ax)\n",
    "ax.set_title('Distribution of Frequency')\n",
    "ax.yaxis.set_visible(False)\n",
    "ax.spines['left'].set_visible(False)\n",
    "ax.spines['top'].set_visible(False)\n",
    "ax.spines['right'].set_visible(False)\n",
    "\n",
    "# Visualize the distribution of Frequency\n",
    "for container in ax.containers:\n",
    "    ax.bar_label(container, label_type='edge', padding=2)\n",
    "plt.show()"
   ]
  },
  {
   "cell_type": "markdown",
   "metadata": {},
   "source": [
    "Data Analysis:\n",
    "-Group 1-2 times (138 customers):\n",
    "This is the group with the lowest number of customers.\n",
    "These may be customers who made trial purchases or did not return after their first purchase.\n",
    "\n",
    "-Group 2-5 times (169 customers):\n",
    "The number of customers increases slightly compared to the 1-2 times group.\n",
    "This group may consist of potential customers who are not yet loyal or regular.\n",
    "\n",
    "-Group 5-20 times (969 customers):\n",
    "This is the second-largest group, accounting for a significant proportion.\n",
    "Customers in this group have relatively high purchase frequency and can be considered loyal customers or those with increasing frequency trends.\n",
    "\n",
    "-Group 20+ times (3,096 customers):\n",
    "This is the largest group, dominating the distribution.\n",
    "Customers in this group are considered loyal or bring the highest value to the business.\n",
    "\n",
    "Summary:\n",
    "-The business has a large number of regular customers (20+ group) with very high purchase frequency, which is a positive sign. However, the number of customers in the 1-2 and 2-5 times groups is quite low. The business should consider strategies to convert customers with lower frequency (groups 1-2 and 2-5) into higher frequency groups (5-20 and 20+).\n",
    "-Can implement promotional programs, customer care, or special offers to encourage more frequent shopping."
   ]
  },
  {
   "cell_type": "code",
   "execution_count": null,
   "metadata": {},
   "outputs": [
    {
     "data": {
      "image/png": "[encoded data removed]",
      "text/plain": [
       "<Figure size 1500x800 with 1 Axes>"
      ]
     },
     "metadata": {},
     "output_type": "display_data"
    }
   ],
   "source": [
    "# Distribution throughout the time \n",
    "transactions['YearMonth'] = transactions['InvoiceDate'].dt.to_period('M')\n",
    "rfm_time = transactions.groupby(['YearMonth', 'CustomerID']).agg({\n",
    "    'InvoiceDate': 'max',\n",
    "    'InvoiceNo': 'count',\n",
    "    'cost': 'sum'\n",
    "}).reset_index()\n",
    "\n",
    "rfm_time.columns = ['YearMonth', 'CustomerID', 'Recency', 'Frequency', 'Monetary']\n",
    "rfm_time['Recency'] = (last_day - rfm_time['Recency']).dt.days\n",
    "\n",
    "# Define the rfm_segment function\n",
    "def rfm_segment(row):\n",
    "    if row['Recency'] <= 30 and row['Frequency'] >= 10 and row['Monetary'] >= 1000:\n",
    "        return 'Champions'\n",
    "    elif row['Recency'] <= 90 and row['Frequency'] >= 5 and row['Monetary'] >= 500:\n",
    "        return 'Loyal Customers'\n",
    "    elif row['Recency'] <= 180 and row['Frequency'] >= 3 and row['Monetary'] >= 300:\n",
    "        return 'Potential Loyalists'\n",
    "    else:\n",
    "        return 'Others'\n",
    "\n",
    "# Customer segmentation over time\n",
    "rfm_time['Segment'] = rfm_time.apply(rfm_segment, axis=1)\n",
    "\n",
    "# Calculate the number of customers in each segment over time\n",
    "rfm_distribution = rfm_time.groupby(['YearMonth', 'Segment']).size().reset_index(name='Count')\n",
    "\n",
    "# Convert YearMonth to string for plotting\n",
    "rfm_distribution['YearMonth'] = rfm_distribution['YearMonth'].astype(str)\n",
    "\n",
    "# Visualize the distribution of RFM segments over time\n",
    "plt.figure(figsize=(15, 8))\n",
    "sns.lineplot(data=rfm_distribution, x='YearMonth', y='Count', hue='Segment')\n",
    "plt.title('RFM Distribution Throughout the Time')\n",
    "plt.xticks(rotation=45)\n",
    "plt.show()\n"
   ]
  },
  {
   "cell_type": "markdown",
   "metadata": {},
   "source": [
    "Data Analysis:\n",
    "-Others Group (Blue):\n",
    "Largest group in early 2011, but customer numbers decreased significantly from mid-2011.\n",
    "Peak occurred around January 2011, then sharply declined approaching 0 by year-end.\n",
    "\n",
    "-Potential Loyalists Group (Orange):\n",
    "Started increasing from June 2011, showing successful conversion of \"Others\" into potentially loyal customers.\n",
    "However, numbers declined from October 2011 to year-end.\n",
    "\n",
    "-Loyal Customers Group (Green):\n",
    "Emerged clearly from mid-2011 with slight growth from July 2011 to October 2011.\n",
    "Subsequently, loyal customer numbers decreased towards year-end, indicating need for retention measures.\n",
    "\n",
    "-Champions Group (Red):\n",
    "Latest to emerge, from October 2011, but showed slight decline in following months.\n",
    "This is a crucial customer group, but relatively small in size, highlighting need for retention and development focus.\n",
    "\n",
    "Summary:\n",
    "-Graph shows customer migration from \"Others\" to higher-value groups like \"Potential Loyalists\", \"Loyal Customers\", and \"Champions\". However, from October 2011 onwards, all customer groups showed declining trends, especially the \"Others\" group.\n",
    "-Business needs to focus on improving customer retention strategies, particularly for \"Champions\" and \"Loyal Customers\" groups, as these provide the highest value."
   ]
  }
 ],
 "metadata": {
  "kernelspec": {
   "display_name": "base",
   "language": "python",
   "name": "python3"
  },
  "language_info": {
   "codemirror_mode": {
    "name": "ipython",
    "version": 3
   },
   "file_extension": ".py",
   "mimetype": "text/x-python",
   "name": "python",
   "nbconvert_exporter": "python",
   "pygments_lexer": "ipython3",
   "version": "3.12.7"
  }
 },
 "nbformat": 4,
 "nbformat_minor": 2
}
